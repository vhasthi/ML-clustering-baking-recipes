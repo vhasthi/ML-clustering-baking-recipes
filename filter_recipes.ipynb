{
 "cells": [
  {
   "cell_type": "code",
   "execution_count": 25,
   "id": "a14f7bd6",
   "metadata": {},
   "outputs": [],
   "source": [
    "# I did not include the original file in the repo because it is huge\n",
    "# You will have to download it from https://recipenlg.cs.put.poznan.pl/\n",
    "\n",
    "import pandas as pd\n",
    "DATASET = 'RecipeNLG_dataset.csv'"
   ]
  },
  {
   "cell_type": "code",
   "execution_count": 32,
   "id": "be144458",
   "metadata": {},
   "outputs": [
    {
     "name": "stdout",
     "output_type": "stream",
     "text": [
      "(2231142, 7)\n"
     ]
    }
   ],
   "source": [
    "# read csv into DataFrame, check dimensions\n",
    "\n",
    "df = pd.read_csv(filepath_or_buffer=DATASET, header=0)\n",
    "print(df.shape)"
   ]
  },
  {
   "cell_type": "code",
   "execution_count": 33,
   "id": "bda1ba60",
   "metadata": {},
   "outputs": [],
   "source": [
    "# For some reason there's a recipe whose title is NaN\n",
    "# I'm dropping it because it's annoying\n",
    "df.drop(index=df.loc[df['title'].isna()].index, inplace=True)\n",
    "\n",
    "# rename the first column to \"id\"\n",
    "df.rename(columns={'Unnamed: 0': 'id'}, inplace=True)"
   ]
  },
  {
   "cell_type": "code",
   "execution_count": 34,
   "id": "8b793fd5",
   "metadata": {},
   "outputs": [],
   "source": [
    "# function to determine whether a title refers to a baked good\n",
    "BAKED_GOODS = ['Cake', 'Cookie', 'Muffin']\n",
    "\n",
    "def is_baked_good(s):\n",
    "    return any(bg in s for bg in BAKED_GOODS)"
   ]
  },
  {
   "cell_type": "code",
   "execution_count": 35,
   "id": "db996295",
   "metadata": {},
   "outputs": [],
   "source": [
    "# apply function to DataFrame\n",
    "df['is_bg'] = df['title'].apply(is_baked_good)"
   ]
  },
  {
   "cell_type": "code",
   "execution_count": 38,
   "id": "9e3125a5",
   "metadata": {},
   "outputs": [],
   "source": [
    "df.loc[df['is_bg'] == True].to_csv('RecipeNLG_bg_only.csv', index=False, columns=['id', 'title', 'ingredients', 'directions'])"
   ]
  },
  {
   "cell_type": "code",
   "execution_count": null,
   "id": "c9fcf02b",
   "metadata": {},
   "outputs": [],
   "source": []
  }
 ],
 "metadata": {
  "kernelspec": {
   "display_name": "COGS118B_WI24",
   "language": "python",
   "name": "cogs118b_wi24"
  },
  "language_info": {
   "codemirror_mode": {
    "name": "ipython",
    "version": 3
   },
   "file_extension": ".py",
   "mimetype": "text/x-python",
   "name": "python",
   "nbconvert_exporter": "python",
   "pygments_lexer": "ipython3",
   "version": "3.9.5"
  }
 },
 "nbformat": 4,
 "nbformat_minor": 5
}
